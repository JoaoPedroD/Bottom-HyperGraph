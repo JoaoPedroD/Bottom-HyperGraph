{
 "cells": [
  {
   "cell_type": "code",
   "execution_count": null,
   "id": "d1649e56-32de-4c41-b359-7b9daa9752a0",
   "metadata": {},
   "outputs": [],
   "source": [
    "import torch\n",
    "from data_git import *\n",
    "from os import path\n",
    "from os import getcwd"
   ]
  },
  {
   "cell_type": "code",
   "execution_count": null,
   "id": "1a15ee81-4185-4171-98f5-ff560fed4655",
   "metadata": {
    "scrolled": true
   },
   "outputs": [],
   "source": [
    "def create_hyper_graph(depth=5,dataset_path=\"muta/muta188\",output=\"data\"):\n",
    "    bottom_clauses = {\"pos\":[],\"neg\":[]}\n",
    "    sat = {\"pos\":[],\"neg\":[]}\n",
    "    symbols = []\n",
    "    pat = f\"{getcwd()}/{output}/{dataset_path.split('/')[-1]}\"\n",
    "    if not path.exists(pat): makedirs(pat)\n",
    "    # print(f\"pat = {dataset_path}\")\n",
    "    size = 0\n",
    "    for ppp in [\"pos\",\"neg\"]:\n",
    "        pat = f\"{dataset_path}\"\n",
    "        pos_examples = load_examples(f\"{pat}/{ppp}.pl\")\n",
    "        bk = f\"{pat}/bk.pl\"\n",
    "        mode = f\"{pat}/mode.pl\"\n",
    "        prolog = aleph_settings(mode, bk, depth, data_files={'train_pos': f\"{pat}/{ppp}.pl\"})\n",
    "        for i in range(len(pos_examples)):\n",
    "            prolog += [f':- sat({i+1}).']\n",
    "        script = create_script(pat,prolog)\n",
    "        prolog_output = run_aleph(script)\n",
    "        with open(f\"analise/{dataset_path.split('/')[-1]}_{ppp}_{depth}.txt\",\"w\") as f:\n",
    "            f.write(prolog_output)\n",
    "        bottom_clauses_raw = re.findall(r'\\[bottom clause\\]\\n(.*?)\\n\\[literals\\]', prolog_output,re.S)\n",
    "        sats = re.findall(r'\\[sat\\] \\[\\d+\\]\\n\\[(.*?)\\]', prolog_output,re.S)\n",
    "        print(\"-------------------------------\")\n",
    "        # continue\n",
    "        for b,s in zip(bottom_clauses_raw,sats):\n",
    "            clause = re.sub(r'[ \\n]', '', b).split(':-')\n",
    "            if len(clause) == 1:\n",
    "                continue\n",
    "            body = clause[1]\n",
    "            variable = re.findall(r'([A-Z]=[- \\d\\.]+)[,\\.]', body)\n",
    "            var = {}\n",
    "            for v in variable:\n",
    "                v = v.split(\"=\")\n",
    "                var[v[0].strip()] = v[1].strip()\n",
    "            for v in var:\n",
    "                body = body.replace(f\"{v},\",f\"{var[v]},\").replace(f\"{v})\",f\"{var[v]})\")\n",
    "            body = re.findall(r'(\\w+\\([\\w,\\.\\-]+\\))', body)\n",
    "            size += len(body)\n",
    "            for b in body:\n",
    "                b = re.findall(r\"\\((.*?)\\)\",b)[0]\n",
    "                for r in re.findall(r\"([a-z_\\d]+)\",b):\n",
    "                    symbols.append(r)\n",
    "\n",
    "            bottom_clauses[ppp].append(sorted(body))\n",
    "            sat[ppp].append(s)\n",
    "        symbols = sorted(list(set(symbols)))\n",
    "    modes = get_modes(f\"{pat}/mode.pl\")\n",
    "    types = sorted(list(set([l for li in list(modes.values()) for l in li ])))\n",
    "    predicates = sorted(list(set(list(modes.keys()))))\n",
    "    x,y = create_subhgraphs(bottom_clauses, modes, symbols, predicates, types, sat)\n",
    "    pat = f\"{getcwd()}/{output}/{dataset_path.split('/')[-1]}\"\n",
    "    torch.save(y,f'{pat}/y{depth}h.pt')\n",
    "    torch.save(x,f'{pat}/x{depth}h.pt')\n"
   ]
  },
  {
   "cell_type": "code",
   "execution_count": null,
   "id": "76eb328b-04ff-4264-8ec8-7613889d96ae",
   "metadata": {
    "scrolled": true
   },
   "outputs": [],
   "source": [
    "for d in [\"muta/muta188\",\"muta/muta42\",\"carcinogenesis\",\"alzheimers/choline\",\"alzheimers/toxic\",\"alzheimers/scopolamine\",\"alzheimers/amine\"]:\n",
    "    create_hyper_graph(dataset_path=f\"{getcwd()}/data_pre/{d}\",output=\"output\")"
   ]
  },
  {
   "cell_type": "code",
   "execution_count": null,
   "id": "22f756d8-6c75-4004-a7cb-7b3980249e42",
   "metadata": {},
   "outputs": [],
   "source": []
  },
  {
   "cell_type": "code",
   "execution_count": null,
   "id": "c89a00f3-81a4-4431-9d97-951092309a68",
   "metadata": {},
   "outputs": [],
   "source": []
  }
 ],
 "metadata": {
  "kernelspec": {
   "display_name": "Python 3 (ipykernel)",
   "language": "python",
   "name": "python3"
  },
  "language_info": {
   "codemirror_mode": {
    "name": "ipython",
    "version": 3
   },
   "file_extension": ".py",
   "mimetype": "text/x-python",
   "name": "python",
   "nbconvert_exporter": "python",
   "pygments_lexer": "ipython3",
   "version": "3.11.4"
  }
 },
 "nbformat": 4,
 "nbformat_minor": 5
}
